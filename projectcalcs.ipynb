{
 "cells": [
  {
   "cell_type": "code",
   "execution_count": 36,
   "metadata": {},
   "outputs": [],
   "source": [
    "# Import necessary packages\n",
    "import numpy as np\n",
    "import sympy as sym\n",
    "import matplotlib.pyplot as plt"
   ]
  },
  {
   "cell_type": "markdown",
   "metadata": {},
   "source": [
    "Gear transmission: gear A meshes with gear B1, which is connected to gear B2 by a shaft. Gear B2 meshes with gear C."
   ]
  },
  {
   "cell_type": "markdown",
   "metadata": {},
   "source": [
    "The below calculations represent geometry calculations for the gear train, given required input and output speeds"
   ]
  },
  {
   "cell_type": "code",
   "execution_count": 37,
   "metadata": {},
   "outputs": [],
   "source": [
    "# Define constants for gears\n",
    "phi = 20 # Pressure angle [degrees]\n",
    "\n",
    "N_A = 19 # Number of teeth on gear A [teeth]\n",
    "N_B1 = 48 # Number of teeth on gear B1 [teeth]\n",
    "N_B2 = 21 # Number of teeth on gear B2 [teeth]\n",
    "N_C = 54 # Number of teeth on gear C [teeth]\n",
    "\n",
    "m_AB1 = 3 # Module of gears A and B1 [mm]\n",
    "m_B2C = 2.5 # Module of gear B2 and C [mm]\n",
    "\n",
    "inputSpeed = 2600 # Input speed [rpm]"
   ]
  },
  {
   "cell_type": "code",
   "execution_count": 38,
   "metadata": {},
   "outputs": [],
   "source": [
    "# Define calculation functions\n",
    "\n",
    "def circularPitch(module):\n",
    "    return np.pi * module\n",
    "\n",
    "def addendum(pitchDiameter):\n",
    "    return 1/pitchDiameter\n",
    "\n",
    "def dedendum(pitchDiameter):\n",
    "    return 1.25/pitchDiameter\n",
    "\n",
    "def clearance(addendum, dedendum):\n",
    "    return addendum - dedendum\n",
    "\n",
    "def toothThickness(circularPitch):\n",
    "    return circularPitch / 2"
   ]
  },
  {
   "cell_type": "code",
   "execution_count": 39,
   "metadata": {},
   "outputs": [
    {
     "data": {
      "text/latex": [
       "$\\displaystyle n_{A} = 2600$"
      ],
      "text/plain": [
       "Eq(n_A, 2600)"
      ]
     },
     "metadata": {},
     "output_type": "display_data"
    },
    {
     "data": {
      "text/latex": [
       "$\\displaystyle n_{B1} = 1029.16666666667$"
      ],
      "text/plain": [
       "Eq(n_B1, 1029.16666666667)"
      ]
     },
     "metadata": {},
     "output_type": "display_data"
    },
    {
     "data": {
      "text/latex": [
       "$\\displaystyle n_{B2} = 1029.16666666667$"
      ],
      "text/plain": [
       "Eq(n_B2, 1029.16666666667)"
      ]
     },
     "metadata": {},
     "output_type": "display_data"
    },
    {
     "data": {
      "text/latex": [
       "$\\displaystyle n_{C} = 400.231481481481$"
      ],
      "text/plain": [
       "Eq(n_C, 400.231481481481)"
      ]
     },
     "metadata": {},
     "output_type": "display_data"
    }
   ],
   "source": [
    "# RPM calculations [rpm]\n",
    "\n",
    "# If gear X is spinning at some RPM and has # teeth, \n",
    "# how fast is gear Y spinning with another # of teeth?\n",
    "\n",
    "n_A = inputSpeed\n",
    "display(sym.Eq(sym.symbols('n_A'), n_A))\n",
    "n_B1 = (N_A / N_B1) * inputSpeed\n",
    "display(sym.Eq(sym.symbols('n_B1'), n_B1))\n",
    "n_B2 = n_B1 # connected by shaft\n",
    "display(sym.Eq(sym.symbols('n_B2'), n_B2))\n",
    "n_C = (N_B2 / N_C) * n_B2\n",
    "display(sym.Eq(sym.symbols('n_C'), n_C))\n",
    "outputSpeed = n_C"
   ]
  },
  {
   "cell_type": "code",
   "execution_count": 40,
   "metadata": {},
   "outputs": [
    {
     "data": {
      "text/latex": [
       "$\\displaystyle d_{A} = 57$"
      ],
      "text/plain": [
       "Eq(d_A, 57)"
      ]
     },
     "metadata": {},
     "output_type": "display_data"
    },
    {
     "data": {
      "text/latex": [
       "$\\displaystyle d_{B1} = 144$"
      ],
      "text/plain": [
       "Eq(d_B1, 144)"
      ]
     },
     "metadata": {},
     "output_type": "display_data"
    },
    {
     "data": {
      "text/latex": [
       "$\\displaystyle d_{B2} = 52.5$"
      ],
      "text/plain": [
       "Eq(d_B2, 52.5)"
      ]
     },
     "metadata": {},
     "output_type": "display_data"
    },
    {
     "data": {
      "text/latex": [
       "$\\displaystyle d_{C} = 135.0$"
      ],
      "text/plain": [
       "Eq(d_C, 135.0)"
      ]
     },
     "metadata": {},
     "output_type": "display_data"
    }
   ],
   "source": [
    "# Pitch diameter calculations [mm]\n",
    "\n",
    "def pitchDiameter(toothNumber, module):\n",
    "    return module * toothNumber\n",
    "\n",
    "d_A = pitchDiameter(N_A, m_AB1)\n",
    "display(sym.Eq(sym.symbols('d_A'), d_A))\n",
    "d_B1 = pitchDiameter(N_B1, m_AB1)\n",
    "display(sym.Eq(sym.symbols('d_B1'), d_B1))\n",
    "d_B2 = pitchDiameter(N_B2, m_B2C)\n",
    "display(sym.Eq(sym.symbols('d_B2'), d_B2))\n",
    "d_C = pitchDiameter(N_C, m_B2C)\n",
    "display(sym.Eq(sym.symbols('d_C'), d_C))"
   ]
  },
  {
   "cell_type": "code",
   "execution_count": 41,
   "metadata": {},
   "outputs": [
    {
     "data": {
      "text/latex": [
       "$\\displaystyle db_{A} = 53.5624793847968$"
      ],
      "text/plain": [
       "Eq(db_A, 53.5624793847968)"
      ]
     },
     "metadata": {},
     "output_type": "display_data"
    },
    {
     "data": {
      "text/latex": [
       "$\\displaystyle db_{B1} = 135.315737393171$"
      ],
      "text/plain": [
       "Eq(db_B1, 135.315737393171)"
      ]
     },
     "metadata": {},
     "output_type": "display_data"
    },
    {
     "data": {
      "text/latex": [
       "$\\displaystyle db_{B2} = 49.3338625912602$"
      ],
      "text/plain": [
       "Eq(db_B2, 49.3338625912602)"
      ]
     },
     "metadata": {},
     "output_type": "display_data"
    },
    {
     "data": {
      "text/latex": [
       "$\\displaystyle db_{C} = 126.858503806098$"
      ],
      "text/plain": [
       "Eq(db_C, 126.858503806098)"
      ]
     },
     "metadata": {},
     "output_type": "display_data"
    }
   ],
   "source": [
    "# Base diameter calculations [mm]\n",
    "\n",
    "def baseDiameter(pitchDiameter, pressureAngle):\n",
    "    return pitchDiameter * np.cos(np.radians(pressureAngle))\n",
    "\n",
    "db_A = baseDiameter(d_A, phi)\n",
    "display(sym.Eq(sym.symbols('db_A'), db_A))\n",
    "db_B1 = baseDiameter(d_B1, phi)\n",
    "display(sym.Eq(sym.symbols('db_B1'), db_B1))\n",
    "db_B2 = baseDiameter(d_B2, phi)\n",
    "display(sym.Eq(sym.symbols('db_B2'), db_B2))\n",
    "db_C = baseDiameter(d_C, phi)\n",
    "display(sym.Eq(sym.symbols('db_C'), db_C))"
   ]
  },
  {
   "cell_type": "code",
   "execution_count": 42,
   "metadata": {},
   "outputs": [
    {
     "data": {
      "text/latex": [
       "$\\displaystyle a_{AB1} = 3$"
      ],
      "text/plain": [
       "Eq(a_AB1, 3)"
      ]
     },
     "metadata": {},
     "output_type": "display_data"
    },
    {
     "data": {
      "text/latex": [
       "$\\displaystyle b_{AB1} = 3.75$"
      ],
      "text/plain": [
       "Eq(b_AB1, 3.75)"
      ]
     },
     "metadata": {},
     "output_type": "display_data"
    },
    {
     "data": {
      "text/latex": [
       "$\\displaystyle a_{B2C} = 2.5$"
      ],
      "text/plain": [
       "Eq(a_B2C, 2.5)"
      ]
     },
     "metadata": {},
     "output_type": "display_data"
    },
    {
     "data": {
      "text/latex": [
       "$\\displaystyle b_{B2C} = 3.125$"
      ],
      "text/plain": [
       "Eq(b_B2C, 3.125)"
      ]
     },
     "metadata": {},
     "output_type": "display_data"
    }
   ],
   "source": [
    "# Calculation of a and b constants\n",
    "\n",
    "def aCons(module):\n",
    "    return module\n",
    "\n",
    "def bCons(module):\n",
    "    return 1.25 * module\n",
    "\n",
    "a_AB1 = aCons(m_AB1)\n",
    "display(sym.Eq(sym.symbols('a_AB1'), a_AB1))\n",
    "b_AB1 = bCons(m_AB1)\n",
    "display(sym.Eq(sym.symbols('b_AB1'), b_AB1))\n",
    "a_B2C = aCons(m_B2C)\n",
    "display(sym.Eq(sym.symbols('a_B2C'), a_B2C))\n",
    "b_B2C = bCons(m_B2C)\n",
    "display(sym.Eq(sym.symbols('b_B2C'), b_B2C))"
   ]
  },
  {
   "cell_type": "code",
   "execution_count": 43,
   "metadata": {},
   "outputs": [
    {
     "data": {
      "text/latex": [
       "$\\displaystyle do_{A} = 63$"
      ],
      "text/plain": [
       "Eq(do_A, 63)"
      ]
     },
     "metadata": {},
     "output_type": "display_data"
    },
    {
     "data": {
      "text/latex": [
       "$\\displaystyle do_{B1} = 150$"
      ],
      "text/plain": [
       "Eq(do_B1, 150)"
      ]
     },
     "metadata": {},
     "output_type": "display_data"
    },
    {
     "data": {
      "text/latex": [
       "$\\displaystyle do_{B2} = 57.5$"
      ],
      "text/plain": [
       "Eq(do_B2, 57.5)"
      ]
     },
     "metadata": {},
     "output_type": "display_data"
    },
    {
     "data": {
      "text/latex": [
       "$\\displaystyle do_{C} = 140.0$"
      ],
      "text/plain": [
       "Eq(do_C, 140.0)"
      ]
     },
     "metadata": {},
     "output_type": "display_data"
    }
   ],
   "source": [
    "# Outside circle calculations [mm]\n",
    "\n",
    "def outsideCircle(pitchDiameter, a):\n",
    "    return pitchDiameter + 2*a\n",
    "\n",
    "do_A = outsideCircle(d_A, a_AB1)\n",
    "display(sym.Eq(sym.symbols('do_A'), do_A))\n",
    "do_B1 = outsideCircle(d_B1, a_AB1)\n",
    "display(sym.Eq(sym.symbols('do_B1'), do_B1))\n",
    "do_B2 = outsideCircle(d_B2, a_B2C)\n",
    "display(sym.Eq(sym.symbols('do_B2'), do_B2))\n",
    "do_C = outsideCircle(d_C, a_B2C)\n",
    "display(sym.Eq(sym.symbols('do_C'), do_C))"
   ]
  },
  {
   "cell_type": "code",
   "execution_count": 44,
   "metadata": {},
   "outputs": [
    {
     "data": {
      "text/latex": [
       "$\\displaystyle dr_{A} = 49.5$"
      ],
      "text/plain": [
       "Eq(dr_A, 49.5)"
      ]
     },
     "metadata": {},
     "output_type": "display_data"
    },
    {
     "data": {
      "text/latex": [
       "$\\displaystyle dr_{B1} = 136.5$"
      ],
      "text/plain": [
       "Eq(dr_B1, 136.5)"
      ]
     },
     "metadata": {},
     "output_type": "display_data"
    },
    {
     "data": {
      "text/latex": [
       "$\\displaystyle dr_{B2} = 46.25$"
      ],
      "text/plain": [
       "Eq(dr_B2, 46.25)"
      ]
     },
     "metadata": {},
     "output_type": "display_data"
    },
    {
     "data": {
      "text/latex": [
       "$\\displaystyle dr_{C} = 128.75$"
      ],
      "text/plain": [
       "Eq(dr_C, 128.75)"
      ]
     },
     "metadata": {},
     "output_type": "display_data"
    }
   ],
   "source": [
    "# Root circle calculations [mm]\n",
    "\n",
    "def rootCircle(pitchDiameter, b):\n",
    "    return pitchDiameter - 2*b\n",
    "\n",
    "dr_A = rootCircle(d_A, b_AB1)\n",
    "display(sym.Eq(sym.symbols('dr_A'), dr_A))\n",
    "dr_B1 = rootCircle(d_B1, b_AB1)\n",
    "display(sym.Eq(sym.symbols('dr_B1'), dr_B1))\n",
    "dr_B2 = rootCircle(d_B2, b_B2C)\n",
    "display(sym.Eq(sym.symbols('dr_B2'), dr_B2))\n",
    "dr_C = rootCircle(d_C, b_B2C)\n",
    "display(sym.Eq(sym.symbols('dr_C'), dr_C))"
   ]
  },
  {
   "cell_type": "code",
   "execution_count": 45,
   "metadata": {},
   "outputs": [
    {
     "data": {
      "text/latex": [
       "$\\displaystyle CrAB_{1} = 1.64562630318385$"
      ],
      "text/plain": [
       "Eq(CrAB1, 1.64562630318385)"
      ]
     },
     "metadata": {},
     "output_type": "display_data"
    },
    {
     "data": {
      "text/latex": [
       "$\\displaystyle CrB2C = 1.66843747960903$"
      ],
      "text/plain": [
       "Eq(CrB2C, 1.66843747960903)"
      ]
     },
     "metadata": {},
     "output_type": "display_data"
    }
   ],
   "source": [
    "# Contact ratio calculations\n",
    "\n",
    "def contactRatio(module, pressureAngle, do1, do2, db1, db2, dp1, dp2):\n",
    "    return (1/(np.pi * module * np.cos(np.radians(pressureAngle)))) * \\\n",
    "            (np.sqrt((do1/2)**2 - (db1/2)**2) + np.sqrt((do2/2)**2 - (db2/2)**2)) - \\\n",
    "            ((dp1 + dp2) / 2 * np.tan(np.radians(pressureAngle))/(np.pi*module))\n",
    "\n",
    "CrAB1 = contactRatio(m_AB1, phi, do_A, do_B1, db_A, db_B1, d_A, d_B1)\n",
    "display(sym.Eq(sym.symbols('CrAB1'), CrAB1))\n",
    "CrB2C = contactRatio(m_B2C, phi, do_B2, do_C, db_B2, db_C, d_B2, d_C)\n",
    "display(sym.Eq(sym.symbols('CrB2C'), CrB2C))"
   ]
  },
  {
   "cell_type": "markdown",
   "metadata": {},
   "source": [
    "Now that the gears have their geometry, we can calculate the spacing between the shaft centrelines."
   ]
  },
  {
   "cell_type": "code",
   "execution_count": 51,
   "metadata": {},
   "outputs": [
    {
     "data": {
      "text/latex": [
       "$\\displaystyle shaftDistAB_{1} = 94.4391083889838$"
      ],
      "text/plain": [
       "Eq(shaftDistAB1, 94.4391083889838)"
      ]
     },
     "metadata": {},
     "output_type": "display_data"
    },
    {
     "data": {
      "text/latex": [
       "$\\displaystyle shaftDistB2C = 88.0961831986789$"
      ],
      "text/plain": [
       "Eq(shaftDistB2C, 88.0961831986789)"
      ]
     },
     "metadata": {},
     "output_type": "display_data"
    }
   ],
   "source": [
    "# Distance between shafts [mm]\n",
    "\n",
    "def shaftDistance(db_1, db_2):\n",
    "    return (db_1 + db_2) / 2\n",
    "\n",
    "shaftDistAB1 = shaftDistance(db_A, db_B1)\n",
    "display(sym.Eq(sym.symbols('shaftDistAB1'), shaftDistAB1))\n",
    "shaftDistB2C = shaftDistance(db_B2, db_C)\n",
    "display(sym.Eq(sym.symbols('shaftDistB2C'), shaftDistB2C))"
   ]
  },
  {
   "cell_type": "markdown",
   "metadata": {},
   "source": [
    "The below calculations represent life and load calculations for the gears and shafts in the above system."
   ]
  },
  {
   "cell_type": "code",
   "execution_count": 46,
   "metadata": {},
   "outputs": [
    {
     "data": {
      "text/latex": [
       "$\\displaystyle cyclesA = 2271360000$"
      ],
      "text/plain": [
       "Eq(cyclesA, 2271360000)"
      ]
     },
     "metadata": {},
     "output_type": "display_data"
    },
    {
     "data": {
      "text/latex": [
       "$\\displaystyle cyclesB_{1} = 899080000.0$"
      ],
      "text/plain": [
       "Eq(cyclesB1, 899080000.0)"
      ]
     },
     "metadata": {},
     "output_type": "display_data"
    },
    {
     "data": {
      "text/latex": [
       "$\\displaystyle cyclesB_{2} = 899080000.0$"
      ],
      "text/plain": [
       "Eq(cyclesB2, 899080000.0)"
      ]
     },
     "metadata": {},
     "output_type": "display_data"
    },
    {
     "data": {
      "text/latex": [
       "$\\displaystyle cyclesC = 349642222.222222$"
      ],
      "text/plain": [
       "Eq(cyclesC, 349642222.222222)"
      ]
     },
     "metadata": {},
     "output_type": "display_data"
    }
   ],
   "source": [
    "# Lifetime calculations\n",
    "\n",
    "H = 70000 # Input power [W]\n",
    "T = 873600 # Lifetime [minutes/year]\n",
    "Rel = 99 # Reliability factor [%]\n",
    "\n",
    "def numCycles(T, n):\n",
    "    return T * n\n",
    "\n",
    "cyclesA = numCycles(T, n_A)\n",
    "display(sym.Eq(sym.symbols('cyclesA'), cyclesA))\n",
    "cyclesB1 = numCycles(T, n_B1)\n",
    "display(sym.Eq(sym.symbols('cyclesB1'), cyclesB1))\n",
    "cyclesB2 = numCycles(T, n_B2)\n",
    "display(sym.Eq(sym.symbols('cyclesB2'), cyclesB2))\n",
    "cyclesC = numCycles(T, n_C)\n",
    "display(sym.Eq(sym.symbols('cyclesC'), cyclesC))"
   ]
  },
  {
   "cell_type": "code",
   "execution_count": 47,
   "metadata": {},
   "outputs": [
    {
     "data": {
      "text/latex": [
       "$\\displaystyle T_{A} = 257.096446533062$"
      ],
      "text/plain": [
       "Eq(T_A, 257.096446533062)"
      ]
     },
     "metadata": {},
     "output_type": "display_data"
    },
    {
     "data": {
      "text/latex": [
       "$\\displaystyle T_{B1} = 649.506812294051$"
      ],
      "text/plain": [
       "Eq(T_B1, 649.506812294051)"
      ]
     },
     "metadata": {},
     "output_type": "display_data"
    },
    {
     "data": {
      "text/latex": [
       "$\\displaystyle T_{B2} = 649.506812294051$"
      ],
      "text/plain": [
       "Eq(T_B2, 649.506812294051)"
      ]
     },
     "metadata": {},
     "output_type": "display_data"
    },
    {
     "data": {
      "text/latex": [
       "$\\displaystyle T_{C} = 1670.16037447042$"
      ],
      "text/plain": [
       "Eq(T_C, 1670.16037447042)"
      ]
     },
     "metadata": {},
     "output_type": "display_data"
    }
   ],
   "source": [
    "# Torque calculations [N*m]\n",
    "# Assuming perfect efficiency\n",
    "\n",
    "def torque(power, speed):\n",
    "    return power/(2*np.pi*(speed/60))\n",
    "\n",
    "T_A = torque(H, n_A)\n",
    "display(sym.Eq(sym.symbols('T_A'), T_A))\n",
    "T_B1 = torque(H, n_B1)\n",
    "display(sym.Eq(sym.symbols('T_B1'), T_B1))\n",
    "T_B2 = torque(H, n_B2)\n",
    "display(sym.Eq(sym.symbols('T_B2'), T_B2))\n",
    "T_C = torque(H, n_C)\n",
    "display(sym.Eq(sym.symbols('T_C'), T_C))"
   ]
  },
  {
   "cell_type": "code",
   "execution_count": 48,
   "metadata": {},
   "outputs": [
    {
     "data": {
      "text/latex": [
       "$\\displaystyle Ft_{A} = 9020.92794852848$"
      ],
      "text/plain": [
       "Eq(Ft_A, 9020.92794852848)"
      ]
     },
     "metadata": {},
     "output_type": "display_data"
    },
    {
     "data": {
      "text/latex": [
       "$\\displaystyle Fn_{A} = 9599.87100993074$"
      ],
      "text/plain": [
       "Eq(Fn_A, 9599.87100993074)"
      ]
     },
     "metadata": {},
     "output_type": "display_data"
    },
    {
     "data": {
      "text/latex": [
       "$\\displaystyle Fa_{A} = 3283.34925872444$"
      ],
      "text/plain": [
       "Eq(Fa_A, 3283.34925872444)"
      ]
     },
     "metadata": {},
     "output_type": "display_data"
    },
    {
     "data": {
      "text/latex": [
       "$\\displaystyle Ft_{B1} = 9020.92794852848$"
      ],
      "text/plain": [
       "Eq(Ft_B1, 9020.92794852848)"
      ]
     },
     "metadata": {},
     "output_type": "display_data"
    },
    {
     "data": {
      "text/latex": [
       "$\\displaystyle Fn_{B1} = 9599.87100993074$"
      ],
      "text/plain": [
       "Eq(Fn_B1, 9599.87100993074)"
      ]
     },
     "metadata": {},
     "output_type": "display_data"
    },
    {
     "data": {
      "text/latex": [
       "$\\displaystyle Fa_{B1} = 3283.34925872444$"
      ],
      "text/plain": [
       "Eq(Fa_B1, 3283.34925872444)"
      ]
     },
     "metadata": {},
     "output_type": "display_data"
    },
    {
     "data": {
      "text/latex": [
       "$\\displaystyle Ft_{B2} = 24743.116658821$"
      ],
      "text/plain": [
       "Eq(Ft_B2, 24743.116658821)"
      ]
     },
     "metadata": {},
     "output_type": "display_data"
    },
    {
     "data": {
      "text/latex": [
       "$\\displaystyle Fn_{B2} = 26331.0747700957$"
      ],
      "text/plain": [
       "Eq(Fn_B2, 26331.0747700957)"
      ]
     },
     "metadata": {},
     "output_type": "display_data"
    },
    {
     "data": {
      "text/latex": [
       "$\\displaystyle Fa_{B2} = 9005.75796678705$"
      ],
      "text/plain": [
       "Eq(Fa_B2, 9005.75796678705)"
      ]
     },
     "metadata": {},
     "output_type": "display_data"
    },
    {
     "data": {
      "text/latex": [
       "$\\displaystyle Ft_{C} = 24743.116658821$"
      ],
      "text/plain": [
       "Eq(Ft_C, 24743.116658821)"
      ]
     },
     "metadata": {},
     "output_type": "display_data"
    },
    {
     "data": {
      "text/latex": [
       "$\\displaystyle Fn_{C} = 26331.0747700957$"
      ],
      "text/plain": [
       "Eq(Fn_C, 26331.0747700957)"
      ]
     },
     "metadata": {},
     "output_type": "display_data"
    },
    {
     "data": {
      "text/latex": [
       "$\\displaystyle Fa_{C} = 9005.75796678704$"
      ],
      "text/plain": [
       "Eq(Fa_C, 9005.75796678704)"
      ]
     },
     "metadata": {},
     "output_type": "display_data"
    }
   ],
   "source": [
    "# Tangential, normal, axial/radial forces [N]\n",
    "\n",
    "def tangentialForce(torque, pitchDiameter):\n",
    "    # Multiply divisor by 1000 to convert pitch diameter from mm to m\n",
    "    return torque/(pitchDiameter/(2*1000))\n",
    "\n",
    "def normalForce(tangentialForce, pressureAngle):\n",
    "    return tangentialForce / np.cos(np.radians(pressureAngle))\n",
    "\n",
    "def axialForce(tangentialForce, pressureAngle):\n",
    "    return tangentialForce * np.tan(np.radians(pressureAngle))\n",
    "\n",
    "Ft_A = tangentialForce(T_A, d_A)\n",
    "Fn_A = normalForce(Ft_A, phi)\n",
    "Fa_A = axialForce(Ft_A, phi)\n",
    "display(sym.Eq(sym.symbols('Ft_A'), Ft_A))\n",
    "display(sym.Eq(sym.symbols('Fn_A'), Fn_A))\n",
    "display(sym.Eq(sym.symbols('Fa_A'), Fa_A))\n",
    "\n",
    "Ft_B1 = tangentialForce(T_B1, d_B1)\n",
    "Fn_B1 = normalForce(Ft_B1, phi)\n",
    "Fa_B1 = axialForce(Ft_B1, phi)\n",
    "display(sym.Eq(sym.symbols('Ft_B1'), Ft_B1))\n",
    "display(sym.Eq(sym.symbols('Fn_B1'), Fn_B1))\n",
    "display(sym.Eq(sym.symbols('Fa_B1'), Fa_B1))\n",
    "\n",
    "Ft_B2 = tangentialForce(T_B2, d_B2)\n",
    "Fn_B2 = normalForce(Ft_B2, phi)\n",
    "Fa_B2 = axialForce(Ft_B2, phi)\n",
    "display(sym.Eq(sym.symbols('Ft_B2'), Ft_B2))\n",
    "display(sym.Eq(sym.symbols('Fn_B2'), Fn_B2))\n",
    "display(sym.Eq(sym.symbols('Fa_B2'), Fa_B2))\n",
    "\n",
    "Ft_C = tangentialForce(T_C, d_C)\n",
    "Fn_C = normalForce(Ft_C, phi)\n",
    "Fa_C = axialForce(Ft_C, phi)\n",
    "display(sym.Eq(sym.symbols('Ft_C'), Ft_C))\n",
    "display(sym.Eq(sym.symbols('Fn_C'), Fn_C))\n",
    "display(sym.Eq(sym.symbols('Fa_C'), Fa_C))"
   ]
  },
  {
   "cell_type": "markdown",
   "metadata": {},
   "source": [
    "Now that we know the forces on each gear, we need to design shafts to support each gear. We only consider the shaft between gears B1 and B2."
   ]
  },
  {
   "cell_type": "code",
   "execution_count": 49,
   "metadata": {},
   "outputs": [
    {
     "data": {
      "text/latex": [
       "$\\displaystyle M_{B1} = 649506.812294051$"
      ],
      "text/plain": [
       "Eq(M_B1, 649506.812294051)"
      ]
     },
     "metadata": {},
     "output_type": "display_data"
    },
    {
     "data": {
      "text/latex": [
       "$\\displaystyle M_{B2} = 649506.812294051$"
      ],
      "text/plain": [
       "Eq(M_B2, 649506.812294051)"
      ]
     },
     "metadata": {},
     "output_type": "display_data"
    },
    {
     "data": {
      "text/latex": [
       "$\\displaystyle V_{B1} = 24784.7958411091$"
      ],
      "text/plain": [
       "Eq(V_B1, 24784.7958411091)"
      ]
     },
     "metadata": {},
     "output_type": "display_data"
    },
    {
     "data": {
      "text/latex": [
       "$\\displaystyle V_{B2} = 67981.1543070421$"
      ],
      "text/plain": [
       "Eq(V_B2, 67981.1543070421)"
      ]
     },
     "metadata": {},
     "output_type": "display_data"
    }
   ],
   "source": [
    "# Shaft design: consider only the loads from B1 and B2\n",
    "# Assume that the shaft is made of steel (Sut = 900 MPa)\n",
    "\n",
    "Sut = 900 # Ultimate tensile strength [MPa]\n",
    "Sy = 0.58 * Sut # Yield strength [MPa]\n",
    "Se = 0.5 * Sut # Endurance strength [MPa]\n",
    "\n",
    "# Bending moment calculations [N*m]\n",
    "\n",
    "def bendingMoment(tangentialForce, pitchDiameter):\n",
    "    return tangentialForce * (pitchDiameter/2)\n",
    "\n",
    "M_B1 = bendingMoment(Ft_B1, d_B1)\n",
    "display(sym.Eq(sym.symbols('M_B1'), M_B1))\n",
    "M_B2 = bendingMoment(Ft_B2, d_B2)\n",
    "display(sym.Eq(sym.symbols('M_B2'), M_B2))\n",
    "\n",
    "# Shear force calculations [N]\n",
    "\n",
    "def shearForce(tangentialForce, pressureAngle):\n",
    "    return tangentialForce / np.tan(np.radians(pressureAngle))\n",
    "\n",
    "V_B1 = shearForce(Ft_B1, phi)\n",
    "display(sym.Eq(sym.symbols('V_B1'), V_B1))\n",
    "V_B2 = shearForce(Ft_B2, phi)\n",
    "display(sym.Eq(sym.symbols('V_B2'), V_B2))"
   ]
  }
 ],
 "metadata": {
  "kernelspec": {
   "display_name": "Python 3",
   "language": "python",
   "name": "python3"
  },
  "language_info": {
   "codemirror_mode": {
    "name": "ipython",
    "version": 3
   },
   "file_extension": ".py",
   "mimetype": "text/x-python",
   "name": "python",
   "nbconvert_exporter": "python",
   "pygments_lexer": "ipython3",
   "version": "3.11.6"
  }
 },
 "nbformat": 4,
 "nbformat_minor": 2
}
