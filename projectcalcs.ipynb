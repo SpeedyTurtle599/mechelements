{
 "cells": [
  {
   "cell_type": "code",
   "execution_count": 102,
   "metadata": {},
   "outputs": [],
   "source": [
    "# Import necessary packages\n",
    "import numpy as np\n",
    "import sympy as sym\n",
    "import matplotlib.pyplot as plt"
   ]
  },
  {
   "cell_type": "markdown",
   "metadata": {},
   "source": [
    "Gear transmission: gear A meshes with gear B1, which is connected to gear B2 by a shaft. Gear B2 meshes with gear C."
   ]
  },
  {
   "cell_type": "markdown",
   "metadata": {},
   "source": [
    "The below calculations represent geometry calculations for the gear train, given required input and output speeds"
   ]
  },
  {
   "cell_type": "code",
   "execution_count": 103,
   "metadata": {},
   "outputs": [],
   "source": [
    "# Define constants for gears\n",
    "phi = 20 # Pressure angle [degrees]\n",
    "\n",
    "N_A = 19 # Number of teeth on gear A [teeth]\n",
    "N_B1 = 48 # Number of teeth on gear B1 [teeth]\n",
    "N_B2 = 21 # Number of teeth on gear B2 [teeth]\n",
    "N_C = 54 # Number of teeth on gear C [teeth]\n",
    "\n",
    "m_AB1 = 7 # Module of gears A and B1 [mm]\n",
    "m_B2C = 5 # Module of gear B2 and C [mm]\n",
    "\n",
    "inputSpeed = 2600 # Input speed [rpm]\n",
    "\n",
    "a = 0.125 # [m]\n",
    "b = 0.125 # [m]\n",
    "c = 0.125 # [m]"
   ]
  },
  {
   "cell_type": "code",
   "execution_count": 104,
   "metadata": {},
   "outputs": [],
   "source": [
    "# Define some gear geometry functions\n",
    "\n",
    "def circularPitch(module):\n",
    "    return np.pi * module\n",
    "\n",
    "def addendum(pitchDiameter):\n",
    "    return 1/pitchDiameter\n",
    "\n",
    "def dedendum(pitchDiameter):\n",
    "    return 1.25/pitchDiameter\n",
    "\n",
    "def clearance(addendum, dedendum):\n",
    "    return addendum - dedendum\n",
    "\n",
    "def toothThickness(circularPitch):\n",
    "    return circularPitch / 2"
   ]
  },
  {
   "cell_type": "code",
   "execution_count": 105,
   "metadata": {},
   "outputs": [
    {
     "data": {
      "text/latex": [
       "$\\displaystyle n_{A} = 2600$"
      ],
      "text/plain": [
       "Eq(n_A, 2600)"
      ]
     },
     "metadata": {},
     "output_type": "display_data"
    },
    {
     "data": {
      "text/latex": [
       "$\\displaystyle n_{B1} = 1029.16666666667$"
      ],
      "text/plain": [
       "Eq(n_B1, 1029.16666666667)"
      ]
     },
     "metadata": {},
     "output_type": "display_data"
    },
    {
     "data": {
      "text/latex": [
       "$\\displaystyle n_{B2} = 1029.16666666667$"
      ],
      "text/plain": [
       "Eq(n_B2, 1029.16666666667)"
      ]
     },
     "metadata": {},
     "output_type": "display_data"
    },
    {
     "data": {
      "text/latex": [
       "$\\displaystyle n_{C} = 400.231481481481$"
      ],
      "text/plain": [
       "Eq(n_C, 400.231481481481)"
      ]
     },
     "metadata": {},
     "output_type": "display_data"
    }
   ],
   "source": [
    "# RPM calculations [rpm]\n",
    "\n",
    "# If gear X is spinning at some RPM and has # teeth, \n",
    "# how fast is gear Y spinning with another # of teeth?\n",
    "\n",
    "n_A = inputSpeed\n",
    "display(sym.Eq(sym.symbols('n_A'), n_A))\n",
    "n_B1 = (N_A / N_B1) * inputSpeed\n",
    "display(sym.Eq(sym.symbols('n_B1'), n_B1))\n",
    "n_B2 = n_B1 # connected by shaft\n",
    "display(sym.Eq(sym.symbols('n_B2'), n_B2))\n",
    "n_C = (N_B2 / N_C) * n_B2\n",
    "display(sym.Eq(sym.symbols('n_C'), n_C))\n",
    "outputSpeed = n_C"
   ]
  },
  {
   "cell_type": "code",
   "execution_count": 106,
   "metadata": {},
   "outputs": [
    {
     "data": {
      "text/latex": [
       "$\\displaystyle d_{A} = 133$"
      ],
      "text/plain": [
       "Eq(d_A, 133)"
      ]
     },
     "metadata": {},
     "output_type": "display_data"
    },
    {
     "data": {
      "text/latex": [
       "$\\displaystyle d_{B1} = 336$"
      ],
      "text/plain": [
       "Eq(d_B1, 336)"
      ]
     },
     "metadata": {},
     "output_type": "display_data"
    },
    {
     "data": {
      "text/latex": [
       "$\\displaystyle d_{B2} = 105$"
      ],
      "text/plain": [
       "Eq(d_B2, 105)"
      ]
     },
     "metadata": {},
     "output_type": "display_data"
    },
    {
     "data": {
      "text/latex": [
       "$\\displaystyle d_{C} = 270$"
      ],
      "text/plain": [
       "Eq(d_C, 270)"
      ]
     },
     "metadata": {},
     "output_type": "display_data"
    }
   ],
   "source": [
    "# Pitch diameter calculations [mm]\n",
    "\n",
    "def pitchDiameter(toothNumber, module):\n",
    "    return module * toothNumber\n",
    "\n",
    "d_A = pitchDiameter(N_A, m_AB1)\n",
    "display(sym.Eq(sym.symbols('d_A'), d_A))\n",
    "d_B1 = pitchDiameter(N_B1, m_AB1)\n",
    "display(sym.Eq(sym.symbols('d_B1'), d_B1))\n",
    "d_B2 = pitchDiameter(N_B2, m_B2C)\n",
    "display(sym.Eq(sym.symbols('d_B2'), d_B2))\n",
    "d_C = pitchDiameter(N_C, m_B2C)\n",
    "display(sym.Eq(sym.symbols('d_C'), d_C))"
   ]
  },
  {
   "cell_type": "code",
   "execution_count": 107,
   "metadata": {},
   "outputs": [
    {
     "data": {
      "text/latex": [
       "$\\displaystyle db_{A} = 124.979118564526$"
      ],
      "text/plain": [
       "Eq(db_A, 124.979118564526)"
      ]
     },
     "metadata": {},
     "output_type": "display_data"
    },
    {
     "data": {
      "text/latex": [
       "$\\displaystyle db_{B1} = 315.736720584065$"
      ],
      "text/plain": [
       "Eq(db_B1, 315.736720584065)"
      ]
     },
     "metadata": {},
     "output_type": "display_data"
    },
    {
     "data": {
      "text/latex": [
       "$\\displaystyle db_{B2} = 98.6677251825204$"
      ],
      "text/plain": [
       "Eq(db_B2, 98.6677251825204)"
      ]
     },
     "metadata": {},
     "output_type": "display_data"
    },
    {
     "data": {
      "text/latex": [
       "$\\displaystyle db_{C} = 253.717007612195$"
      ],
      "text/plain": [
       "Eq(db_C, 253.717007612195)"
      ]
     },
     "metadata": {},
     "output_type": "display_data"
    }
   ],
   "source": [
    "# Base diameter calculations [mm]\n",
    "\n",
    "def baseDiameter(pitchDiameter, pressureAngle):\n",
    "    return pitchDiameter * np.cos(np.radians(pressureAngle))\n",
    "\n",
    "db_A = baseDiameter(d_A, phi)\n",
    "display(sym.Eq(sym.symbols('db_A'), db_A))\n",
    "db_B1 = baseDiameter(d_B1, phi)\n",
    "display(sym.Eq(sym.symbols('db_B1'), db_B1))\n",
    "db_B2 = baseDiameter(d_B2, phi)\n",
    "display(sym.Eq(sym.symbols('db_B2'), db_B2))\n",
    "db_C = baseDiameter(d_C, phi)\n",
    "display(sym.Eq(sym.symbols('db_C'), db_C))"
   ]
  },
  {
   "cell_type": "code",
   "execution_count": 108,
   "metadata": {},
   "outputs": [
    {
     "data": {
      "text/latex": [
       "$\\displaystyle a_{AB1} = 7$"
      ],
      "text/plain": [
       "Eq(a_AB1, 7)"
      ]
     },
     "metadata": {},
     "output_type": "display_data"
    },
    {
     "data": {
      "text/latex": [
       "$\\displaystyle b_{AB1} = 8.75$"
      ],
      "text/plain": [
       "Eq(b_AB1, 8.75)"
      ]
     },
     "metadata": {},
     "output_type": "display_data"
    },
    {
     "data": {
      "text/latex": [
       "$\\displaystyle a_{B2C} = 5$"
      ],
      "text/plain": [
       "Eq(a_B2C, 5)"
      ]
     },
     "metadata": {},
     "output_type": "display_data"
    },
    {
     "data": {
      "text/latex": [
       "$\\displaystyle b_{B2C} = 6.25$"
      ],
      "text/plain": [
       "Eq(b_B2C, 6.25)"
      ]
     },
     "metadata": {},
     "output_type": "display_data"
    }
   ],
   "source": [
    "# Calculation of a and b constants\n",
    "\n",
    "def aCons(module):\n",
    "    return module\n",
    "\n",
    "def bCons(module):\n",
    "    return 1.25 * module\n",
    "\n",
    "a_AB1 = aCons(m_AB1)\n",
    "display(sym.Eq(sym.symbols('a_AB1'), a_AB1))\n",
    "b_AB1 = bCons(m_AB1)\n",
    "display(sym.Eq(sym.symbols('b_AB1'), b_AB1))\n",
    "a_B2C = aCons(m_B2C)\n",
    "display(sym.Eq(sym.symbols('a_B2C'), a_B2C))\n",
    "b_B2C = bCons(m_B2C)\n",
    "display(sym.Eq(sym.symbols('b_B2C'), b_B2C))"
   ]
  },
  {
   "cell_type": "code",
   "execution_count": 109,
   "metadata": {},
   "outputs": [
    {
     "data": {
      "text/latex": [
       "$\\displaystyle do_{A} = 147$"
      ],
      "text/plain": [
       "Eq(do_A, 147)"
      ]
     },
     "metadata": {},
     "output_type": "display_data"
    },
    {
     "data": {
      "text/latex": [
       "$\\displaystyle do_{B1} = 350$"
      ],
      "text/plain": [
       "Eq(do_B1, 350)"
      ]
     },
     "metadata": {},
     "output_type": "display_data"
    },
    {
     "data": {
      "text/latex": [
       "$\\displaystyle do_{B2} = 115$"
      ],
      "text/plain": [
       "Eq(do_B2, 115)"
      ]
     },
     "metadata": {},
     "output_type": "display_data"
    },
    {
     "data": {
      "text/latex": [
       "$\\displaystyle do_{C} = 280$"
      ],
      "text/plain": [
       "Eq(do_C, 280)"
      ]
     },
     "metadata": {},
     "output_type": "display_data"
    }
   ],
   "source": [
    "# Outside circle calculations [mm]\n",
    "\n",
    "def outsideCircle(pitchDiameter, a):\n",
    "    return pitchDiameter + 2*a\n",
    "\n",
    "do_A = outsideCircle(d_A, a_AB1)\n",
    "display(sym.Eq(sym.symbols('do_A'), do_A))\n",
    "do_B1 = outsideCircle(d_B1, a_AB1)\n",
    "display(sym.Eq(sym.symbols('do_B1'), do_B1))\n",
    "do_B2 = outsideCircle(d_B2, a_B2C)\n",
    "display(sym.Eq(sym.symbols('do_B2'), do_B2))\n",
    "do_C = outsideCircle(d_C, a_B2C)\n",
    "display(sym.Eq(sym.symbols('do_C'), do_C))"
   ]
  },
  {
   "cell_type": "code",
   "execution_count": 110,
   "metadata": {},
   "outputs": [
    {
     "data": {
      "text/latex": [
       "$\\displaystyle dr_{A} = 115.5$"
      ],
      "text/plain": [
       "Eq(dr_A, 115.5)"
      ]
     },
     "metadata": {},
     "output_type": "display_data"
    },
    {
     "data": {
      "text/latex": [
       "$\\displaystyle dr_{B1} = 318.5$"
      ],
      "text/plain": [
       "Eq(dr_B1, 318.5)"
      ]
     },
     "metadata": {},
     "output_type": "display_data"
    },
    {
     "data": {
      "text/latex": [
       "$\\displaystyle dr_{B2} = 92.5$"
      ],
      "text/plain": [
       "Eq(dr_B2, 92.5)"
      ]
     },
     "metadata": {},
     "output_type": "display_data"
    },
    {
     "data": {
      "text/latex": [
       "$\\displaystyle dr_{C} = 257.5$"
      ],
      "text/plain": [
       "Eq(dr_C, 257.5)"
      ]
     },
     "metadata": {},
     "output_type": "display_data"
    }
   ],
   "source": [
    "# Root circle calculations [mm]\n",
    "\n",
    "def rootCircle(pitchDiameter, b):\n",
    "    return pitchDiameter - 2*b\n",
    "\n",
    "dr_A = rootCircle(d_A, b_AB1)\n",
    "display(sym.Eq(sym.symbols('dr_A'), dr_A))\n",
    "dr_B1 = rootCircle(d_B1, b_AB1)\n",
    "display(sym.Eq(sym.symbols('dr_B1'), dr_B1))\n",
    "dr_B2 = rootCircle(d_B2, b_B2C)\n",
    "display(sym.Eq(sym.symbols('dr_B2'), dr_B2))\n",
    "dr_C = rootCircle(d_C, b_B2C)\n",
    "display(sym.Eq(sym.symbols('dr_C'), dr_C))"
   ]
  },
  {
   "cell_type": "code",
   "execution_count": 111,
   "metadata": {},
   "outputs": [
    {
     "data": {
      "text/latex": [
       "$\\displaystyle Cr_{AB1} = 1.64562630318385$"
      ],
      "text/plain": [
       "Eq(Cr_AB1, 1.64562630318385)"
      ]
     },
     "metadata": {},
     "output_type": "display_data"
    },
    {
     "data": {
      "text/latex": [
       "$\\displaystyle Cr_{B2C} = 1.66843747960903$"
      ],
      "text/plain": [
       "Eq(Cr_B2C, 1.66843747960903)"
      ]
     },
     "metadata": {},
     "output_type": "display_data"
    }
   ],
   "source": [
    "# Contact ratio calculations\n",
    "\n",
    "def contactRatio(module, pressureAngle, do1, do2, db1, db2, dp1, dp2):\n",
    "    return (1/(np.pi * module * np.cos(np.radians(pressureAngle)))) * \\\n",
    "            (np.sqrt((do1/2)**2 - (db1/2)**2) + np.sqrt((do2/2)**2 - (db2/2)**2)) - \\\n",
    "            ((dp1 + dp2) / 2 * np.tan(np.radians(pressureAngle))/(np.pi*module))\n",
    "\n",
    "Cr_AB1 = contactRatio(m_AB1, phi, do_A, do_B1, db_A, db_B1, d_A, d_B1)\n",
    "display(sym.Eq(sym.symbols('Cr_AB1'), Cr_AB1))\n",
    "Cr_B2C = contactRatio(m_B2C, phi, do_B2, do_C, db_B2, db_C, d_B2, d_C)\n",
    "display(sym.Eq(sym.symbols('Cr_B2C'), Cr_B2C))"
   ]
  },
  {
   "cell_type": "markdown",
   "metadata": {},
   "source": [
    "Now that the gears have their geometry, we can calculate the spacing between the shaft centrelines."
   ]
  },
  {
   "cell_type": "code",
   "execution_count": 112,
   "metadata": {},
   "outputs": [
    {
     "data": {
      "text/latex": [
       "$\\displaystyle shaftDist_{AB1} = 220.357919574296$"
      ],
      "text/plain": [
       "Eq(shaftDist_AB1, 220.357919574296)"
      ]
     },
     "metadata": {},
     "output_type": "display_data"
    },
    {
     "data": {
      "text/latex": [
       "$\\displaystyle shaftDist_{B2C} = 176.192366397358$"
      ],
      "text/plain": [
       "Eq(shaftDist_B2C, 176.192366397358)"
      ]
     },
     "metadata": {},
     "output_type": "display_data"
    }
   ],
   "source": [
    "# Distance between shafts [mm]\n",
    "\n",
    "def shaftDistance(db_1, db_2):\n",
    "    return (db_1 + db_2) / 2\n",
    "\n",
    "shaftDist_AB1 = shaftDistance(db_A, db_B1)\n",
    "display(sym.Eq(sym.symbols('shaftDist_AB1'), shaftDist_AB1))\n",
    "shaftDist_B2C = shaftDistance(db_B2, db_C)\n",
    "display(sym.Eq(sym.symbols('shaftDist_B2C'), shaftDist_B2C))"
   ]
  },
  {
   "cell_type": "markdown",
   "metadata": {},
   "source": [
    "The below calculations represent life calculations for the gears and shafts in the above system."
   ]
  },
  {
   "cell_type": "code",
   "execution_count": 113,
   "metadata": {},
   "outputs": [
    {
     "data": {
      "text/latex": [
       "$\\displaystyle cycles_{A} = 2271360000$"
      ],
      "text/plain": [
       "Eq(cycles_A, 2271360000)"
      ]
     },
     "metadata": {},
     "output_type": "display_data"
    },
    {
     "data": {
      "text/latex": [
       "$\\displaystyle cycles_{B1} = 899080000.0$"
      ],
      "text/plain": [
       "Eq(cycles_B1, 899080000.0)"
      ]
     },
     "metadata": {},
     "output_type": "display_data"
    },
    {
     "data": {
      "text/latex": [
       "$\\displaystyle cycles_{B2} = 899080000.0$"
      ],
      "text/plain": [
       "Eq(cycles_B2, 899080000.0)"
      ]
     },
     "metadata": {},
     "output_type": "display_data"
    },
    {
     "data": {
      "text/latex": [
       "$\\displaystyle cycles_{C} = 349642222.222222$"
      ],
      "text/plain": [
       "Eq(cycles_C, 349642222.222222)"
      ]
     },
     "metadata": {},
     "output_type": "display_data"
    }
   ],
   "source": [
    "# Lifetime calculations\n",
    "\n",
    "H = 70000 # Input power [W]\n",
    "T = 873600 # Lifetime [minutes/year]\n",
    "Rel = 99 # Reliability factor [%]\n",
    "\n",
    "def numCycles(T, n):\n",
    "    return T * n\n",
    "\n",
    "cycles_A = numCycles(T, n_A)\n",
    "display(sym.Eq(sym.symbols('cycles_A'), cycles_A))\n",
    "cycles_B1 = numCycles(T, n_B1)\n",
    "display(sym.Eq(sym.symbols('cycles_B1'), cycles_B1))\n",
    "cycles_B2 = numCycles(T, n_B2)\n",
    "display(sym.Eq(sym.symbols('cycles_B2'), cycles_B2))\n",
    "cycles_C = numCycles(T, n_C)\n",
    "display(sym.Eq(sym.symbols('cycles_C'), cycles_C))"
   ]
  },
  {
   "cell_type": "code",
   "execution_count": 114,
   "metadata": {},
   "outputs": [
    {
     "data": {
      "text/latex": [
       "$\\displaystyle T_{A} = 257.096446533062$"
      ],
      "text/plain": [
       "Eq(T_A, 257.096446533062)"
      ]
     },
     "metadata": {},
     "output_type": "display_data"
    },
    {
     "data": {
      "text/latex": [
       "$\\displaystyle T_{B1} = 649.506812294051$"
      ],
      "text/plain": [
       "Eq(T_B1, 649.506812294051)"
      ]
     },
     "metadata": {},
     "output_type": "display_data"
    },
    {
     "data": {
      "text/latex": [
       "$\\displaystyle T_{B2} = 649.506812294051$"
      ],
      "text/plain": [
       "Eq(T_B2, 649.506812294051)"
      ]
     },
     "metadata": {},
     "output_type": "display_data"
    },
    {
     "data": {
      "text/latex": [
       "$\\displaystyle T_{C} = 1670.16037447042$"
      ],
      "text/plain": [
       "Eq(T_C, 1670.16037447042)"
      ]
     },
     "metadata": {},
     "output_type": "display_data"
    }
   ],
   "source": [
    "# Torque calculations [N*m]\n",
    "# Assuming perfect efficiency\n",
    "\n",
    "def torque(power, speed):\n",
    "    return (60*power)/(2*np.pi*speed)\n",
    "\n",
    "T_A = torque(H, n_A)\n",
    "display(sym.Eq(sym.symbols('T_A'), T_A))\n",
    "T_B1 = torque(H, n_B1)\n",
    "display(sym.Eq(sym.symbols('T_B1'), T_B1))\n",
    "T_B2 = torque(H, n_B2)\n",
    "display(sym.Eq(sym.symbols('T_B2'), T_B2))\n",
    "T_C = torque(H, n_C)\n",
    "display(sym.Eq(sym.symbols('T_C'), T_C))"
   ]
  },
  {
   "cell_type": "markdown",
   "metadata": {},
   "source": [
    "Gear forces: tangential, normal (ignore axial)"
   ]
  },
  {
   "cell_type": "code",
   "execution_count": 115,
   "metadata": {},
   "outputs": [
    {
     "data": {
      "text/latex": [
       "$\\displaystyle W^{T}_{AB1} = 3866.11197794078$"
      ],
      "text/plain": [
       "Eq(W^T_AB1, 3866.11197794078)"
      ]
     },
     "metadata": {},
     "output_type": "display_data"
    },
    {
     "data": {
      "text/latex": [
       "$\\displaystyle W^{N}_{AB1} = 1407.14968231048$"
      ],
      "text/plain": [
       "Eq(W^N_AB1, 1407.14968231048)"
      ]
     },
     "metadata": {},
     "output_type": "display_data"
    },
    {
     "data": {
      "text/latex": [
       "$\\displaystyle W^{T}_{B2C} = 12371.5583294105$"
      ],
      "text/plain": [
       "Eq(W^T_B2C, 12371.5583294105)"
      ]
     },
     "metadata": {},
     "output_type": "display_data"
    },
    {
     "data": {
      "text/latex": [
       "$\\displaystyle W^{N}_{B2C} = 4502.87898339352$"
      ],
      "text/plain": [
       "Eq(W^N_B2C, 4502.87898339352)"
      ]
     },
     "metadata": {},
     "output_type": "display_data"
    }
   ],
   "source": [
    "# Tangential, normal forces [N]\n",
    "\n",
    "def tangentialForce(power, pitchDiameter, speed):\n",
    "    # Convert pitch diameter from mm to m\n",
    "    return (60*power)/(np.pi*(pitchDiameter/1000)*speed)\n",
    "\n",
    "def normalForce(tangentialForce, pressureAngle):\n",
    "    return tangentialForce * np.tan(np.radians(pressureAngle))\n",
    "\n",
    "Wt_AB1 = tangentialForce(H, d_A, n_A)\n",
    "Wn_AB1 = normalForce(Wt_AB1, phi)\n",
    "display(sym.Eq(sym.symbols('W^T_AB1'), Wt_AB1))\n",
    "display(sym.Eq(sym.symbols('W^N_AB1'), Wn_AB1))\n",
    "\n",
    "Wt_B2C = tangentialForce(H, d_B2, n_B2)\n",
    "Wn_B2C = normalForce(Wt_B2C, phi)\n",
    "display(sym.Eq(sym.symbols('W^T_B2C'), Wt_B2C))\n",
    "display(sym.Eq(sym.symbols('W^N_B2C'), Wn_B2C))"
   ]
  },
  {
   "cell_type": "markdown",
   "metadata": {},
   "source": [
    "Shaft forces: we only consider the shaft between gears B1 and B2."
   ]
  },
  {
   "cell_type": "code",
   "execution_count": 116,
   "metadata": {},
   "outputs": [
    {
     "data": {
      "text/latex": [
       "$\\displaystyle C_{y} = 9536.40954558727$"
      ],
      "text/plain": [
       "Eq(C_y, 9536.40954558727)"
      ]
     },
     "metadata": {},
     "output_type": "display_data"
    },
    {
     "data": {
      "text/latex": [
       "$\\displaystyle C_{z} = 2532.86942815886$"
      ],
      "text/plain": [
       "Eq(C_z, 2532.86942815886)"
      ]
     },
     "metadata": {},
     "output_type": "display_data"
    },
    {
     "data": {
      "text/latex": [
       "$\\displaystyle D_{y} = 6701.26076176403$"
      ],
      "text/plain": [
       "Eq(D_y, 6701.26076176403)"
      ]
     },
     "metadata": {},
     "output_type": "display_data"
    },
    {
     "data": {
      "text/latex": [
       "$\\displaystyle D_{z} = 562.859872924192$"
      ],
      "text/plain": [
       "Eq(D_z, 562.859872924192)"
      ]
     },
     "metadata": {},
     "output_type": "display_data"
    },
    {
     "data": {
      "text/latex": [
       "$\\displaystyle Myc = 316.608678519857$"
      ],
      "text/plain": [
       "Eq(Myc, 316.608678519857)"
      ]
     },
     "metadata": {},
     "output_type": "display_data"
    },
    {
     "data": {
      "text/latex": [
       "$\\displaystyle Mzc = 1192.05119319841$"
      ],
      "text/plain": [
       "Eq(Mzc, 1192.05119319841)"
      ]
     },
     "metadata": {},
     "output_type": "display_data"
    },
    {
     "data": {
      "text/latex": [
       "$\\displaystyle M_{MAX} = 1233.38035598101$"
      ],
      "text/plain": [
       "Eq(M_MAX, 1233.38035598101)"
      ]
     },
     "metadata": {},
     "output_type": "display_data"
    }
   ],
   "source": [
    "Cy, Cz, Dy, Dz = sym.symbols('Cy, Cz, Dy, Dz')\n",
    "\n",
    "# Shaft 2 Force/Moment Equilibrium\n",
    "Fyeq = sym.Eq(Wt_AB1 + Wt_B2C - Cy - Dy, 0)\n",
    "Fzeq = sym.Eq(-Wn_AB1 + Wn_B2C - Cz - Dz, 0)\n",
    "Myeq = sym.Eq(-(a)*Wn_B2C + (a+b)*Wn_AB1 + (a+b+c)*Dz, 0)\n",
    "Mzeq = sym.Eq((a)*Wt_B2C + (a+b)*Wt_AB1 - (a+b+c)*Dy, 0)\n",
    "\n",
    "# Solve for unknowns\n",
    "sol = sym.solve([Fyeq, Fzeq, Myeq, Mzeq], [Cy, Cz, Dy, Dz])\n",
    "Cy = sol[Cy]\n",
    "Cz = sol[Cz]\n",
    "Dy = sol[Dy]\n",
    "Dz = sol[Dz]\n",
    "\n",
    "# Print force results\n",
    "display(sym.Eq(sym.symbols('C_y'), Cy))\n",
    "display(sym.Eq(sym.symbols('C_z'), Cz))\n",
    "display(sym.Eq(sym.symbols('D_y'), Dy))\n",
    "display(sym.Eq(sym.symbols('D_z'), Dz))\n",
    "\n",
    "# Most critical point: GEAR B2\n",
    "\n",
    "Myc = a * Cz\n",
    "Mzc = a * Cy\n",
    "display(sym.Eq(sym.symbols('Myc'), Myc))\n",
    "display(sym.Eq(sym.symbols('Mzc'), Mzc))\n",
    "\n",
    "Mmax = sym.sqrt((Myc**2 + Mzc**2))\n",
    "display(sym.Eq(sym.symbols('M_MAX'), Mmax))"
   ]
  },
  {
   "cell_type": "code",
   "execution_count": 128,
   "metadata": {},
   "outputs": [
    {
     "data": {
      "text/latex": [
       "$\\displaystyle Y_{A} = 1.53040430498912$"
      ],
      "text/plain": [
       "Eq(Y_A, 1.53040430498912)"
      ]
     },
     "metadata": {},
     "output_type": "display_data"
    },
    {
     "data": {
      "text/latex": [
       "$\\displaystyle Y_{B1} = 1.48527143267446$"
      ],
      "text/plain": [
       "Eq(Y_B1, 1.48527143267446)"
      ]
     },
     "metadata": {},
     "output_type": "display_data"
    },
    {
     "data": {
      "text/latex": [
       "$\\displaystyle Y_{B2} = 1.52546496155433$"
      ],
      "text/plain": [
       "Eq(Y_B2, 1.52546496155433)"
      ]
     },
     "metadata": {},
     "output_type": "display_data"
    },
    {
     "data": {
      "text/latex": [
       "$\\displaystyle Y_{C} = 1.47963161268682$"
      ],
      "text/plain": [
       "Eq(Y_C, 1.47963161268682)"
      ]
     },
     "metadata": {},
     "output_type": "display_data"
    },
    {
     "data": {
      "text/latex": [
       "$\\displaystyle Z_{A} = 2.09113885006762$"
      ],
      "text/plain": [
       "Eq(Z_A, 2.09113885006762)"
      ]
     },
     "metadata": {},
     "output_type": "display_data"
    },
    {
     "data": {
      "text/latex": [
       "$\\displaystyle Z_{B1} = 1.98537963577291$"
      ],
      "text/plain": [
       "Eq(Z_B1, 1.98537963577291)"
      ]
     },
     "metadata": {},
     "output_type": "display_data"
    },
    {
     "data": {
      "text/latex": [
       "$\\displaystyle Z_{B2} = 2.07945148173193$"
      ],
      "text/plain": [
       "Eq(Z_B2, 2.07945148173193)"
      ]
     },
     "metadata": {},
     "output_type": "display_data"
    },
    {
     "data": {
      "text/latex": [
       "$\\displaystyle Z_{C} = 1.97232746191896$"
      ],
      "text/plain": [
       "Eq(Z_C, 1.97232746191896)"
      ]
     },
     "metadata": {},
     "output_type": "display_data"
    }
   ],
   "source": [
    "# Define gear material properties\n",
    "E = 210 * 10**9 # Young's modulus [Pa]\n",
    "nu = 0.28 # Poisson's ratio\n",
    "HB_A = 300 # Brinell hardness of pinion\n",
    "HB_B1 = 250 # Brinell hardness of gear\n",
    "HB_B2 = 300 # Brinell hardness of pinion\n",
    "HB_C = 250 # Brinell hardness of gear\n",
    "bw_AB1 = 15*m_AB1 # Face width of gear A and B1 [mm]\n",
    "bw_B2C = 15*m_B2C # Face width of gear B2 and C [mm]\n",
    "\n",
    "Kr = 1\n",
    "Kt = 1\n",
    "Ka = 1\n",
    "Ki = 1\n",
    "Kb = 1\n",
    "Ks = 1.05\n",
    "Ke = sym.sqrt(E/1-nu**2) # [MPa**1/2]\n",
    "Kmp = 1.21\n",
    "Kmg = 1.15\n",
    "\n",
    "ChAB1 = 1 + (8.89*10**(-3) * (HB_A/HB_B1) - 8.29*10**(-3)) * (N_B1/N_A - 1)\n",
    "ChB2C = 1 + (8.89*10**(-3) * (HB_B2/HB_C) - 8.29*10**(-3)) * (N_C/N_B2 - 1)\n",
    "\n",
    "Y_A = 1.6831*(N_A)**(-0.0323)\n",
    "Y_B1 = 1.6831*(N_B1)**(-0.0323)\n",
    "Y_B2 = 1.6831*(N_B2)**(-0.0323)\n",
    "Y_C = 1.6831*(N_C)**(-0.0323)\n",
    "\n",
    "Z_A = 2.466*(N_A)**(-0.056)\n",
    "Z_B1 = 2.466*(N_B1)**(-0.056)\n",
    "Z_B2 = 2.466*(N_B2)**(-0.056)\n",
    "Z_C = 2.466*(N_C)**(-0.056)\n",
    "\n",
    "# Print all values of Y and Z\n",
    "display(sym.Eq(sym.symbols('Y_A'), Y_A))\n",
    "display(sym.Eq(sym.symbols('Y_B1'), Y_B1))\n",
    "display(sym.Eq(sym.symbols('Y_B2'), Y_B2))\n",
    "display(sym.Eq(sym.symbols('Y_C'), Y_C))\n",
    "display(sym.Eq(sym.symbols('Z_A'), Z_A))\n",
    "display(sym.Eq(sym.symbols('Z_B1'), Z_B1))\n",
    "display(sym.Eq(sym.symbols('Z_B2'), Z_B2))\n",
    "display(sym.Eq(sym.symbols('Z_C'), Z_C))\n",
    "\n",
    "Qv = 6"
   ]
  },
  {
   "cell_type": "code",
   "execution_count": 118,
   "metadata": {},
   "outputs": [
    {
     "data": {
      "text/latex": [
       "$\\displaystyle \\sigma_{cA} = 2014.77965146929$"
      ],
      "text/plain": [
       "Eq(sigma_cA, 2014.77965146929)"
      ]
     },
     "metadata": {},
     "output_type": "display_data"
    },
    {
     "data": {
      "text/latex": [
       "$\\displaystyle \\sigma_{cB1} = 1499.42076024584$"
      ],
      "text/plain": [
       "Eq(sigma_cB1, 1499.42076024584)"
      ]
     },
     "metadata": {},
     "output_type": "display_data"
    },
    {
     "data": {
      "text/latex": [
       "$\\displaystyle \\sigma_{bA} = 495.697954385975$"
      ],
      "text/plain": [
       "Eq(sigma_bA, 495.697954385975)"
      ]
     },
     "metadata": {},
     "output_type": "display_data"
    },
    {
     "data": {
      "text/latex": [
       "$\\displaystyle \\sigma_{bB1} = 317.922350163968$"
      ],
      "text/plain": [
       "Eq(sigma_bB1, 317.922350163968)"
      ]
     },
     "metadata": {},
     "output_type": "display_data"
    },
    {
     "data": {
      "text/latex": [
       "$\\displaystyle \\sigma_{cB2} = 2003.73321106048$"
      ],
      "text/plain": [
       "Eq(sigma_cB2, 2003.73321106048)"
      ]
     },
     "metadata": {},
     "output_type": "display_data"
    },
    {
     "data": {
      "text/latex": [
       "$\\displaystyle \\sigma_{cC} = 1489.72257033202$"
      ],
      "text/plain": [
       "Eq(sigma_cC, 1489.72257033202)"
      ]
     },
     "metadata": {},
     "output_type": "display_data"
    },
    {
     "data": {
      "text/latex": [
       "$\\displaystyle \\sigma_{bB2} = 494.098101047448$"
      ],
      "text/plain": [
       "Eq(sigma_bB2, 494.098101047448)"
      ]
     },
     "metadata": {},
     "output_type": "display_data"
    },
    {
     "data": {
      "text/latex": [
       "$\\displaystyle \\sigma_{bC} = 316.715146695613$"
      ],
      "text/plain": [
       "Eq(sigma_bC, 316.715146695613)"
      ]
     },
     "metadata": {},
     "output_type": "display_data"
    }
   ],
   "source": [
    "# Allowable stresses (A is a pinion, B1 a gear, B2 a pinion, C a gear)\n",
    "\n",
    "# Intersection 1: Gear A and B1\n",
    "Spc_AB1 = (2.41*HB_A + 237)\n",
    "Sgc_AB1 = (2.21*HB_B1 + 200)\n",
    "Spb_AB1 = (0.703*HB_A + 113)\n",
    "Sgb_AB1 = (0.503*HB_B1 + 88.3)\n",
    "\n",
    "sigmapc_AB1 = (Spc_AB1 * Z_A * ChAB1)/(Kt*Kr)\n",
    "sigmagc_AB1 = (Sgc_AB1 * Z_B1 * ChAB1)/(Kt*Kr)\n",
    "sigmapb_AB1 = (Spb_AB1 * Y_A)/(Kt*Kr)\n",
    "sigmagb_AB1 = (Sgb_AB1 * Y_B1)/(Kt*Kr)\n",
    "\n",
    "# Intersection 2: Gear B2 and C\n",
    "Spc_B2C = (2.41*HB_B2 + 237)\n",
    "Sgc_B2C = (2.21*HB_C + 200)\n",
    "Spb_B2C = (0.703*HB_B2 + 113)\n",
    "Sgb_B2C = (0.503*HB_C + 88.3)\n",
    "\n",
    "sigmapc_B2C = (Spc_B2C * Z_B2 * ChB2C)/(Kt*Kr)\n",
    "sigmagc_B2C = (Sgc_B2C * Z_C * ChB2C)/(Kt*Kr)\n",
    "sigmapb_B2C = (Spb_B2C * Y_B2)/(Kt*Kr)\n",
    "sigmagb_B2C = (Sgb_B2C * Y_C)/(Kt*Kr)\n",
    "\n",
    "# Print sigma values\n",
    "display(sym.Eq(sym.symbols('sigma_cA'), sigmapc_AB1))\n",
    "display(sym.Eq(sym.symbols('sigma_cB1'), sigmagc_AB1))\n",
    "display(sym.Eq(sym.symbols('sigma_bA'), sigmapb_AB1))\n",
    "display(sym.Eq(sym.symbols('sigma_bB1'), sigmagb_AB1))\n",
    "\n",
    "display(sym.Eq(sym.symbols('sigma_cB2'), sigmapc_B2C))\n",
    "display(sym.Eq(sym.symbols('sigma_cC'), sigmagc_B2C))\n",
    "display(sym.Eq(sym.symbols('sigma_bB2'), sigmapb_B2C))\n",
    "display(sym.Eq(sym.symbols('sigma_bC'), sigmagb_B2C))"
   ]
  },
  {
   "cell_type": "code",
   "execution_count": 119,
   "metadata": {},
   "outputs": [
    {
     "data": {
      "text/latex": [
       "$\\displaystyle Kv_{A} = 1.49325845029387$"
      ],
      "text/plain": [
       "Eq(Kv_A, 1.49325845029387)"
      ]
     },
     "metadata": {},
     "output_type": "display_data"
    },
    {
     "data": {
      "text/latex": [
       "$\\displaystyle Kv_{B2} = 1.28079137552246$"
      ],
      "text/plain": [
       "Eq(Kv_B2, 1.28079137552246)"
      ]
     },
     "metadata": {},
     "output_type": "display_data"
    },
    {
     "data": {
      "text/latex": [
       "$\\displaystyle I_{AB1} = 0.723358865340815$"
      ],
      "text/plain": [
       "Eq(I_AB1, 0.723358865340815)"
      ]
     },
     "metadata": {},
     "output_type": "display_data"
    },
    {
     "data": {
      "text/latex": [
       "$\\displaystyle I_{B2C} = 0.726975659667519$"
      ],
      "text/plain": [
       "Eq(I_B2C, 0.726975659667519)"
      ]
     },
     "metadata": {},
     "output_type": "display_data"
    }
   ],
   "source": [
    "A, B = sym.symbols('A, B')\n",
    "Aeq = sym.Eq(A, 50 + 56*B)\n",
    "Beq = sym.Eq(((12 - Qv)**(2/3))/4,B)\n",
    "ABsol = sym.solve([Aeq, Beq], [A, B])\n",
    "A = ABsol[A]\n",
    "B = ABsol[B]\n",
    "\n",
    "vA = n_A * 1/60 * np.pi * d_A / 1000\n",
    "vB2 = n_B2 * 1/60 * np.pi * d_B2 / 1000\n",
    "\n",
    "KvA = ((A + sym.sqrt(200*vA))/A)**B\n",
    "KvB2 = ((A + sym.sqrt(200*vB2))/A)**B\n",
    "\n",
    "# Display Kv values\n",
    "display(sym.Eq(sym.symbols('Kv_A'), KvA))\n",
    "display(sym.Eq(sym.symbols('Kv_B2'), KvB2))\n",
    "\n",
    "Yjp = 0.33\n",
    "Yjg = 0.41\n",
    "\n",
    "Itop = np.pi * np.cos(np.radians(phi)) * np.sin(np.radians(phi))\n",
    "\n",
    "I_AB1 = Itop/(1 + d_A/d_B1)\n",
    "I_B2C = Itop/(1 + d_B2/d_C)\n",
    "\n",
    "# Display I values\n",
    "display(sym.Eq(sym.symbols('I_AB1'), I_AB1))\n",
    "display(sym.Eq(sym.symbols('I_B2C'), I_B2C))"
   ]
  },
  {
   "cell_type": "code",
   "execution_count": 120,
   "metadata": {},
   "outputs": [
    {
     "data": {
      "text/latex": [
       "$\\displaystyle \\sigma_{pc AB1} = 390.484961419001$"
      ],
      "text/plain": [
       "Eq(sigma_pc_AB1, 390.484961419001)"
      ]
     },
     "metadata": {},
     "output_type": "display_data"
    },
    {
     "data": {
      "text/latex": [
       "$\\displaystyle \\sigma_{gc AB1} = 239.506183037873$"
      ],
      "text/plain": [
       "Eq(sigma_gc_AB1, 239.506183037873)"
      ]
     },
     "metadata": {},
     "output_type": "display_data"
    },
    {
     "data": {
      "text/latex": [
       "$\\displaystyle \\sigma_{pb AB1} = 20.2510627415945$"
      ],
      "text/plain": [
       "Eq(sigma_pb_AB1, 20.2510627415945)"
      ]
     },
     "metadata": {},
     "output_type": "display_data"
    },
    {
     "data": {
      "text/latex": [
       "$\\displaystyle \\sigma_{gb AB1} = 15.4913894586477$"
      ],
      "text/plain": [
       "Eq(sigma_gb_AB1, 15.4913894586477)"
      ]
     },
     "metadata": {},
     "output_type": "display_data"
    },
    {
     "data": {
      "text/latex": [
       "$\\displaystyle \\sigma_{pc B2C} = 859.336317638507$"
      ],
      "text/plain": [
       "Eq(sigma_pc_B2C, 859.336317638507)"
      ]
     },
     "metadata": {},
     "output_type": "display_data"
    },
    {
     "data": {
      "text/latex": [
       "$\\displaystyle \\sigma_{gc B2C} = 522.434885281484$"
      ],
      "text/plain": [
       "Eq(sigma_gc_B2C, 522.434885281484)"
      ]
     },
     "metadata": {},
     "output_type": "display_data"
    },
    {
     "data": {
      "text/latex": [
       "$\\displaystyle \\sigma_{pb B2C} = 127.014665515281$"
      ],
      "text/plain": [
       "Eq(sigma_pb_B2C, 127.014665515281)"
      ]
     },
     "metadata": {},
     "output_type": "display_data"
    },
    {
     "data": {
      "text/latex": [
       "$\\displaystyle \\sigma_{gb B2C} = 97.1619946846385$"
      ],
      "text/plain": [
       "Eq(sigma_gb_B2C, 97.1619946846385)"
      ]
     },
     "metadata": {},
     "output_type": "display_data"
    }
   ],
   "source": [
    "# Gear stress calculations\n",
    "\n",
    "# # Intersection 1: Gear A and B1\n",
    "# sigmapc_AB1_real = Ke * ((Wt_AB1/(bw_AB1 * d_A * 10**-6)) * 1/I_AB1 * Ka * Ks * Kmp * KvA)**(1/2)\n",
    "# sigmagc_AB1_real = Ke * ((Wt_AB1/(bw_AB1 * d_B1 * 10**-6)) * 1/I_AB1 * Ka * Ks * Kmg * KvA)**(1/2)\n",
    "# sigmapb_AB1_real = (Wt_AB1/(bw_AB1 * m_AB1 * Yjp * 10**-6)) * Ka * Ks * Kmp * Ki * Kb\n",
    "# sigmagb_AB1_real = (Wt_AB1/(bw_AB1 * m_AB1 * Yjg * 10**-6)) * Ka * Ks * Kmg * Ki * Kb\n",
    "\n",
    "# # Intersection 2: Gear B2 and C\n",
    "# sigmapc_B2C_real = Ke * ((Wt_B2C/(bw_B2C * d_B2 * 10**-6)) * 1/I_B2C * Ka * Ks * Kmp * KvB2)**(1/2)\n",
    "# sigmagc_B2C_real = Ke * ((Wt_B2C/(bw_B2C * d_C * 10**-6)) * 1/I_B2C * Ka * Ks * Kmg * KvB2)**(1/2)\n",
    "# sigmapb_B2C_real = (Wt_B2C/(bw_B2C * m_B2C * Yjp * 10**-6)) * Ka * Ks * Kmp * Ki * Kb\n",
    "# sigmagb_B2C_real = (Wt_B2C/(bw_B2C * m_B2C * Yjg * 10**-6)) * Ka * Ks * Kmg * Ki * Kb\n",
    "\n",
    "# Intersection 1: Gear A and B1\n",
    "sigmapc_AB1_real = Ke * ((Wt_AB1/(bw_AB1 * d_A * 10**6)) * 1/I_AB1 * Ka * Ks * Kmp * KvA)**(1/2)\n",
    "sigmagc_AB1_real = Ke * ((Wt_AB1/(bw_AB1 * d_B1 * 10**6)) * 1/I_AB1 * Ka * Ks * Kmg * KvA)**(1/2)\n",
    "sigmapb_AB1_real = (Wt_AB1/(bw_AB1 * m_AB1 * Yjp)) * Ka * Ks * Kmp * Ki * Kb\n",
    "sigmagb_AB1_real = (Wt_AB1/(bw_AB1 * m_AB1 * Yjg)) * Ka * Ks * Kmg * Ki * Kb\n",
    "\n",
    "# Intersection 2: Gear B2 and C\n",
    "sigmapc_B2C_real = Ke * ((Wt_B2C/(bw_B2C * d_B2 * 10**6)) * 1/I_B2C * Ka * Ks * Kmp * KvB2)**(1/2)\n",
    "sigmagc_B2C_real = Ke * ((Wt_B2C/(bw_B2C * d_C * 10**6)) * 1/I_B2C * Ka * Ks * Kmg * KvB2)**(1/2)\n",
    "sigmapb_B2C_real = (Wt_B2C/(bw_B2C * m_B2C * Yjp)) * Ka * Ks * Kmp * Ki * Kb\n",
    "sigmagb_B2C_real = (Wt_B2C/(bw_B2C * m_B2C * Yjg)) * Ka * Ks * Kmg * Ki * Kb\n",
    "\n",
    "# Print results\n",
    "display(sym.Eq(sym.symbols('sigma_pc_AB1'), sigmapc_AB1_real))\n",
    "display(sym.Eq(sym.symbols('sigma_gc_AB1'), sigmagc_AB1_real))\n",
    "display(sym.Eq(sym.symbols('sigma_pb_AB1'), sigmapb_AB1_real))\n",
    "display(sym.Eq(sym.symbols('sigma_gb_AB1'), sigmagb_AB1_real))\n",
    "\n",
    "display(sym.Eq(sym.symbols('sigma_pc_B2C'), sigmapc_B2C_real))\n",
    "display(sym.Eq(sym.symbols('sigma_gc_B2C'), sigmagc_B2C_real))\n",
    "display(sym.Eq(sym.symbols('sigma_pb_B2C'), sigmapb_B2C_real))\n",
    "display(sym.Eq(sym.symbols('sigma_gb_B2C'), sigmagb_B2C_real))"
   ]
  },
  {
   "cell_type": "code",
   "execution_count": 121,
   "metadata": {},
   "outputs": [
    {
     "data": {
      "text/latex": [
       "$\\displaystyle n_{pc AB1} = 5.1596856487064$"
      ],
      "text/plain": [
       "Eq(n_pc_AB1, 5.1596856487064)"
      ]
     },
     "metadata": {},
     "output_type": "display_data"
    },
    {
     "data": {
      "text/latex": [
       "$\\displaystyle n_{gc AB1} = 6.26046785610011$"
      ],
      "text/plain": [
       "Eq(n_gc_AB1, 6.26046785610011)"
      ]
     },
     "metadata": {},
     "output_type": "display_data"
    },
    {
     "data": {
      "text/latex": [
       "$\\displaystyle n_{pb AB1} = 24.4776267157496$"
      ],
      "text/plain": [
       "Eq(n_pb_AB1, 24.4776267157496)"
      ]
     },
     "metadata": {},
     "output_type": "display_data"
    },
    {
     "data": {
      "text/latex": [
       "$\\displaystyle n_{gb AB1} = 20.5225200110436$"
      ],
      "text/plain": [
       "Eq(n_gb_AB1, 20.5225200110436)"
      ]
     },
     "metadata": {},
     "output_type": "display_data"
    },
    {
     "data": {
      "text/latex": [
       "$\\displaystyle n_{pc B2C} = 2.33172178334883$"
      ],
      "text/plain": [
       "Eq(n_pc_B2C, 2.33172178334883)"
      ]
     },
     "metadata": {},
     "output_type": "display_data"
    },
    {
     "data": {
      "text/latex": [
       "$\\displaystyle n_{gc B2C} = 2.85149903328024$"
      ],
      "text/plain": [
       "Eq(n_gc_B2C, 2.85149903328024)"
      ]
     },
     "metadata": {},
     "output_type": "display_data"
    },
    {
     "data": {
      "text/latex": [
       "$\\displaystyle n_{pb B2C} = 3.89008701509357$"
      ],
      "text/plain": [
       "Eq(n_pb_B2C, 3.89008701509357)"
      ]
     },
     "metadata": {},
     "output_type": "display_data"
    },
    {
     "data": {
      "text/latex": [
       "$\\displaystyle n_{gb B2C} = 3.25966081412372$"
      ],
      "text/plain": [
       "Eq(n_gb_B2C, 3.25966081412372)"
      ]
     },
     "metadata": {},
     "output_type": "display_data"
    }
   ],
   "source": [
    "# Factors of Safety\n",
    "\n",
    "# Intersection 1: Gear A and B1\n",
    "npc_AB1 = sigmapc_AB1/sigmapc_AB1_real\n",
    "ngc_AB1 = sigmagc_AB1/sigmagc_AB1_real\n",
    "npb_AB1 = sigmapb_AB1/sigmapb_AB1_real\n",
    "ngb_AB1 = sigmagb_AB1/sigmagb_AB1_real\n",
    "\n",
    "# Intersection 2: Gear B2 and C\n",
    "npc_B2C = sigmapc_B2C/sigmapc_B2C_real\n",
    "ngc_B2C = sigmagc_B2C/sigmagc_B2C_real\n",
    "npb_B2C = sigmapb_B2C/sigmapb_B2C_real\n",
    "ngb_B2C = sigmagb_B2C/sigmagb_B2C_real\n",
    "\n",
    "# Print factors of safety\n",
    "display(sym.Eq(sym.symbols('n_pc_AB1'), npc_AB1))\n",
    "display(sym.Eq(sym.symbols('n_gc_AB1'), ngc_AB1))\n",
    "display(sym.Eq(sym.symbols('n_pb_AB1'), npb_AB1))\n",
    "display(sym.Eq(sym.symbols('n_gb_AB1'), ngb_AB1))\n",
    "\n",
    "display(sym.Eq(sym.symbols('n_pc_B2C'), npc_B2C))\n",
    "display(sym.Eq(sym.symbols('n_gc_B2C'), ngc_B2C))\n",
    "display(sym.Eq(sym.symbols('n_pb_B2C'), npb_B2C))\n",
    "display(sym.Eq(sym.symbols('n_gb_B2C'), ngb_B2C))"
   ]
  },
  {
   "cell_type": "code",
   "execution_count": 130,
   "metadata": {},
   "outputs": [
    {
     "data": {
      "text/latex": [
       "$\\displaystyle D_{min} = 25.8276015925577$"
      ],
      "text/plain": [
       "Eq(D_min, 25.8276015925577)"
      ]
     },
     "metadata": {},
     "output_type": "display_data"
    },
    {
     "data": {
      "text/latex": [
       "$\\displaystyle D = 26.0$"
      ],
      "text/plain": [
       "Eq(D, 26.0)"
      ]
     },
     "metadata": {},
     "output_type": "display_data"
    }
   ],
   "source": [
    "# Shaft calculations\n",
    "# Critical section: Gear B2, because highest bending moments\n",
    "Sut = 710 # Ultimate tensile strength [MPa]\n",
    "Sy = 422.6 # Yield strength [MPa]\n",
    "Sf = 0.5 * Sut # Fatigue strength [MPa]\n",
    "MinSF = 1.27 # Minimum safety factor\n",
    "\n",
    "Dmin = ((16 * T_B2 * MinSF)/(np.pi * 0.577 * Sy))**(1/3) * 10 # [mm]\n",
    "display(sym.Eq(sym.symbols('D_min'), Dmin))\n",
    "\n",
    "D = np.rint(D) # Dmin rounded to nearest integer [mm]\n",
    "display(sym.Eq(sym.symbols('D'), D))\n",
    "\n",
    "# Let D = 40 mm to match Tara's work\n",
    "# D = 40 # [mm]"
   ]
  },
  {
   "cell_type": "code",
   "execution_count": 132,
   "metadata": {},
   "outputs": [
    {
     "data": {
      "text/latex": [
       "$\\displaystyle k_{s} = 0.825476738622837$"
      ],
      "text/plain": [
       "Eq(k_s, 0.825476738622837)"
      ]
     },
     "metadata": {},
     "output_type": "display_data"
    },
    {
     "data": {
      "text/latex": [
       "$\\displaystyle S_{f prime} = 703.148690664474$"
      ],
      "text/plain": [
       "Eq(S_f_prime, 703.148690664474)"
      ]
     },
     "metadata": {},
     "output_type": "display_data"
    }
   ],
   "source": [
    "Kfs = 2.07 # Stress concentration factor for shaft\n",
    "Kf = 2.07 # Stress concentration factor for keyway\n",
    "\n",
    "kf = 1.58 * (Sut*10**-6)**(-0.085) # Surface factor for shaft\n",
    "kt = 1 # Temperature factor\n",
    "kr = 0.82 # Reliability factor, 99% reliable\n",
    "ks = 1.189*(D)**(-0.112) # Size factor for shaft\n",
    "display(sym.Eq(sym.symbols('k_s'), ks))\n",
    "km = 1 # Miscellaneous factor\n",
    "\n",
    "Sfprime = Sf * kf * kt * kr * ks * km # Modified fatigue strength [MPa]\n",
    "display(sym.Eq(sym.symbols('S_f_prime'), Sfprime))\n",
    "\n",
    "Vmax = Cy\n",
    "# Mmax is already defined above"
   ]
  },
  {
   "cell_type": "code",
   "execution_count": 124,
   "metadata": {},
   "outputs": [
    {
     "data": {
      "text/latex": [
       "$\\displaystyle \\sigma_{vm m} = 0.166277013908566$"
      ],
      "text/plain": [
       "Eq(sigma_vm_m, 0.166277013908566)"
      ]
     },
     "metadata": {},
     "output_type": "display_data"
    },
    {
     "data": {
      "text/latex": [
       "$\\displaystyle \\sigma_{vm a} = 261.651077551399$"
      ],
      "text/plain": [
       "Eq(sigma_vm_a, 261.651077551399)"
      ]
     },
     "metadata": {},
     "output_type": "display_data"
    }
   ],
   "source": [
    "# Calculate shaft stresses\n",
    "sigma_xa = (32*Vmax)/(np.pi*D**3)\n",
    "sigma_xm = 0 # The midrange is zero -- perfect rotation, no wobbling\n",
    "tau_xa = (8*T_B2)/(np.pi*D**3) + (16*Vmax)/(np.pi*D**2)\n",
    "tau_xm = 8*T_B2/(np.pi*D**3)\n",
    "\n",
    "sigma_vm_m = sym.sqrt(sigma_xm**2 + 3*tau_xm**2)\n",
    "sigma_vm_a = sym.sqrt((Kf * sigma_xa)**2 + 3*(Kfs * tau_xa)**2)\n",
    "\n",
    "# Print Von Mises shaft stresses\n",
    "display(sym.Eq(sym.symbols('sigma_vm_m'), sigma_vm_m))\n",
    "display(sym.Eq(sym.symbols('sigma_vm_a'), sigma_vm_a))"
   ]
  },
  {
   "cell_type": "code",
   "execution_count": 125,
   "metadata": {},
   "outputs": [
    {
     "data": {
      "text/latex": [
       "$\\displaystyle n_{s yield} = 1.6141023222148$"
      ],
      "text/plain": [
       "Eq(n_s_yield, 1.6141023222148)"
      ]
     },
     "metadata": {},
     "output_type": "display_data"
    },
    {
     "data": {
      "text/latex": [
       "$\\displaystyle n_{s fatigue} = 2.68766291056484$"
      ],
      "text/plain": [
       "Eq(n_s_fatigue, 2.68766291056484)"
      ]
     },
     "metadata": {},
     "output_type": "display_data"
    }
   ],
   "source": [
    "# Calculate shaft factors of safety\n",
    "ns_yield = (sigma_vm_m/Sy + sigma_vm_a/Sy)**(-1)\n",
    "ns_fatigue = (sigma_vm_m/Sut + sigma_vm_a/Sfprime)**(-1)\n",
    "\n",
    "# Print shaft factors of safety\n",
    "display(sym.Eq(sym.symbols('n_s_yield'), ns_yield))\n",
    "display(sym.Eq(sym.symbols('n_s_fatigue'), ns_fatigue))"
   ]
  }
 ],
 "metadata": {
  "kernelspec": {
   "display_name": "Python 3",
   "language": "python",
   "name": "python3"
  },
  "language_info": {
   "codemirror_mode": {
    "name": "ipython",
    "version": 3
   },
   "file_extension": ".py",
   "mimetype": "text/x-python",
   "name": "python",
   "nbconvert_exporter": "python",
   "pygments_lexer": "ipython3",
   "version": "3.11.6"
  }
 },
 "nbformat": 4,
 "nbformat_minor": 2
}
